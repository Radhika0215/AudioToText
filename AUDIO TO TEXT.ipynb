{
 "cells": [
  {
   "cell_type": "code",
   "execution_count": 10,
   "id": "97097d9a",
   "metadata": {},
   "outputs": [],
   "source": [
    "import speech_recognition as sr"
   ]
  },
  {
   "cell_type": "code",
   "execution_count": 12,
   "id": "570150ae",
   "metadata": {},
   "outputs": [],
   "source": [
    "r = sr.Recognizer()"
   ]
  },
  {
   "cell_type": "code",
   "execution_count": 14,
   "id": "73641aaf",
   "metadata": {},
   "outputs": [
    {
     "name": "stdout",
     "output_type": "stream",
     "text": [
      "sorry run again....\n"
     ]
    }
   ],
   "source": [
    "with sr.AudioFile('audio_to_text.wav') as source:\n",
    "    audio = r.record(source)\n",
    "    try:\n",
    "        text = r.recognize_google(audio)\n",
    "        print('working on.....')\n",
    "        print(text)\n",
    "    except:\n",
    "        print('sorry run again....')"
   ]
  },
  {
   "cell_type": "code",
   "execution_count": null,
   "id": "4980c5b5",
   "metadata": {},
   "outputs": [],
   "source": []
  },
  {
   "cell_type": "code",
   "execution_count": null,
   "id": "19c8e1b8",
   "metadata": {},
   "outputs": [],
   "source": []
  },
  {
   "cell_type": "code",
   "execution_count": null,
   "id": "ba565bed",
   "metadata": {},
   "outputs": [],
   "source": []
  }
 ],
 "metadata": {
  "kernelspec": {
   "display_name": "Python 3",
   "language": "python",
   "name": "python3"
  },
  "language_info": {
   "codemirror_mode": {
    "name": "ipython",
    "version": 3
   },
   "file_extension": ".py",
   "mimetype": "text/x-python",
   "name": "python",
   "nbconvert_exporter": "python",
   "pygments_lexer": "ipython3",
   "version": "3.8.8"
  }
 },
 "nbformat": 4,
 "nbformat_minor": 5
}
